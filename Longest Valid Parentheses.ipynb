{
 "cells": [
  {
   "cell_type": "markdown",
   "id": "eedce359",
   "metadata": {},
   "source": [
    "https://leetcode.com/problems/longest-valid-parentheses/"
   ]
  },
  {
   "cell_type": "code",
   "execution_count": null,
   "id": "f81f4ec9",
   "metadata": {},
   "outputs": [],
   "source": [
    "class Solution:\n",
    "    def longestValidParentheses(self, s: str) -> int:\n",
    "        if len(s) <= 1:\n",
    "            return 0\n",
    "    \n",
    "        max_length = self.iterate_over_string(s)\n",
    "        max_length = self.iterate_over_string(s[::-1], max_length, True)\n",
    "    \n",
    "        return max_length\n",
    "    \n",
    "    \n",
    "    def iterate_over_string(self, s, max_length=0, flag=False):\n",
    "        open_brackets = 0\n",
    "        close_brackets = 0\n",
    "        \n",
    "        for c in s:\n",
    "            if c == '(':\n",
    "                open_brackets += 1\n",
    "            else:\n",
    "                close_brackets += 1\n",
    "            \n",
    "            if open_brackets == close_brackets:\n",
    "                max_length = max(max_length, 2 * close_brackets)\n",
    "            elif flag:\n",
    "                 #if iterating over reversed string\n",
    "                if open_brackets > close_brackets:\n",
    "                    open_brackets = 0\n",
    "                    close_brackets = 0\n",
    "            elif close_brackets > open_brackets:\n",
    "                open_brackets = 0\n",
    "                close_brackets = 0\n",
    "                \n",
    "        return max_length"
   ]
  }
 ],
 "metadata": {
  "kernelspec": {
   "display_name": "Python 3",
   "language": "python",
   "name": "python3"
  },
  "language_info": {
   "codemirror_mode": {
    "name": "ipython",
    "version": 3
   },
   "file_extension": ".py",
   "mimetype": "text/x-python",
   "name": "python",
   "nbconvert_exporter": "python",
   "pygments_lexer": "ipython3",
   "version": "3.8.8"
  }
 },
 "nbformat": 4,
 "nbformat_minor": 5
}
