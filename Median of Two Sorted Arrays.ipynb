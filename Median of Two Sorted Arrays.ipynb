{
 "cells": [
  {
   "cell_type": "markdown",
   "id": "b207496a",
   "metadata": {},
   "source": [
    "https://leetcode.com/problems/median-of-two-sorted-arrays/"
   ]
  },
  {
   "cell_type": "code",
   "execution_count": 27,
   "id": "930d82f5",
   "metadata": {},
   "outputs": [],
   "source": [
    "class Solution:\n",
    "    def findMedianSortedArrays(self, nums1: List[int], nums2: List[int]) -> float:\n",
    "        all_nums = nums1 + nums2\n",
    "        all_nums.sort()\n",
    "        list_size = len(all_nums)\n",
    "        \n",
    "        #if list size if even\n",
    "        if list_size % 2 == 0:\n",
    "            first_num = all_nums[list_size // 2]\n",
    "            second_num = all_nums[(list_size // 2) - 1]\n",
    "            median = (first_num + second_num) / 2\n",
    "        else:\n",
    "            median = all_nums[list_size // 2]\n",
    "        \n",
    "        return median"
   ]
  }
 ],
 "metadata": {
  "kernelspec": {
   "display_name": "Python 3",
   "language": "python",
   "name": "python3"
  },
  "language_info": {
   "codemirror_mode": {
    "name": "ipython",
    "version": 3
   },
   "file_extension": ".py",
   "mimetype": "text/x-python",
   "name": "python",
   "nbconvert_exporter": "python",
   "pygments_lexer": "ipython3",
   "version": "3.8.8"
  }
 },
 "nbformat": 4,
 "nbformat_minor": 5
}
