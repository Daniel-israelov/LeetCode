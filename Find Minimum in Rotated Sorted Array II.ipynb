{
 "cells": [
  {
   "cell_type": "markdown",
   "id": "ad8d46eb",
   "metadata": {},
   "source": [
    "https://leetcode.com/problems/find-minimum-in-rotated-sorted-array-ii/"
   ]
  },
  {
   "cell_type": "code",
   "execution_count": 1,
   "id": "41f230cb",
   "metadata": {},
   "outputs": [],
   "source": [
    "class Solution:\n",
    "    def findMin(self, nums: List[int]) -> int:\n",
    "        low = 0\n",
    "        high = len(nums) - 1\n",
    "        \n",
    "        # low, high, mid - refering to the index value\n",
    "        \n",
    "        while low < high:\n",
    "            mid = (low + high) // 2\n",
    "        \n",
    "            if nums[mid] > nums[high]:\n",
    "                low = mid + 1\n",
    "            elif nums[low] > nums[mid]:\n",
    "                high = mid\n",
    "                low += 1\n",
    "            else:\n",
    "                high -= 1\n",
    "    \n",
    "        return nums[low]"
   ]
  }
 ],
 "metadata": {
  "kernelspec": {
   "display_name": "Python 3",
   "language": "python",
   "name": "python3"
  },
  "language_info": {
   "codemirror_mode": {
    "name": "ipython",
    "version": 3
   },
   "file_extension": ".py",
   "mimetype": "text/x-python",
   "name": "python",
   "nbconvert_exporter": "python",
   "pygments_lexer": "ipython3",
   "version": "3.8.8"
  }
 },
 "nbformat": 4,
 "nbformat_minor": 5
}
