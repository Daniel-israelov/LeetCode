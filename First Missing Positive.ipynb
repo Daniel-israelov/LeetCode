{
 "cells": [
  {
   "cell_type": "markdown",
   "id": "9fe84e66",
   "metadata": {},
   "source": [
    "https://leetcode.com/problems/first-missing-positive/"
   ]
  },
  {
   "cell_type": "code",
   "execution_count": null,
   "id": "6f257eb8",
   "metadata": {},
   "outputs": [],
   "source": [
    "class Solution:\n",
    "    def firstMissingPositive(self, nums: List[int]) -> int:\n",
    "        nums.sort()\n",
    "        \n",
    "        min_ = nums[0]   \n",
    "        max_ = nums[-1]\n",
    "    \n",
    "        # if min > 1 it means that all elements are positive & greater than 1, hence the min positive missing is 1\n",
    "        # if max < 1 it means that all elements are non-positive, hence the min positive missing is 1\n",
    "        if min_ > 1 or max_ < 1:\n",
    "            return 1\n",
    "    \n",
    "        # this loop finds the min positive number (in case the 1st assignment is <= 1)\n",
    "        for num in nums:\n",
    "            if num > 0:\n",
    "                min_ = num\n",
    "                if min_ > 1:\n",
    "                    return 1\n",
    "                break\n",
    "        \n",
    "        index_of_min = nums.index(min_)\n",
    "        \n",
    "        #iterating over the list from the first postive number\n",
    "        for i in range(index_of_min, len(nums) - 1):\n",
    "            #if 2 close numbers in the list are NOT consecutive & not equal\n",
    "            if nums[i + 1] != nums[i] + 1 and nums[i] != nums[i+1]:\n",
    "                return nums[i] + 1\n",
    "        \n",
    "        # at this point we can tell that the numbers in the list are consecutive, so the min missing is max+1\n",
    "        return nums[-1] + 1"
   ]
  }
 ],
 "metadata": {
  "kernelspec": {
   "display_name": "Python 3",
   "language": "python",
   "name": "python3"
  },
  "language_info": {
   "codemirror_mode": {
    "name": "ipython",
    "version": 3
   },
   "file_extension": ".py",
   "mimetype": "text/x-python",
   "name": "python",
   "nbconvert_exporter": "python",
   "pygments_lexer": "ipython3",
   "version": "3.8.8"
  }
 },
 "nbformat": 4,
 "nbformat_minor": 5
}
