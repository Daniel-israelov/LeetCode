{
 "cells": [
  {
   "cell_type": "markdown",
   "id": "434b9eed",
   "metadata": {},
   "source": [
    "https://leetcode.com/problems/k-th-smallest-in-lexicographical-order/"
   ]
  },
  {
   "cell_type": "code",
   "execution_count": 2,
   "id": "2717f377",
   "metadata": {},
   "outputs": [],
   "source": [
    "class Solution:\n",
    "    def findKthNumber(self, n: int, k: int) -> int:\n",
    "        if k == 1:\n",
    "            return 1\n",
    "        \n",
    "        if n < 10:\n",
    "            #returning k because there are no childrens in this tree\n",
    "            return k\n",
    "        \n",
    "        current_node = 1\n",
    "        k -= 1\n",
    "        \n",
    "        # m-ary tree, in this case it's 10-ary tree\n",
    "        while k > 0:\n",
    "            steps = 0\n",
    "            \n",
    "            # outer while loop - these variables are pointing to parent node\n",
    "            head_of_subarray = current_node\n",
    "            head_of_next_subarray = current_node + 1\n",
    "            \n",
    "            while head_of_subarray <= n:\n",
    "                steps += min(n + 1, head_of_next_subarray) - head_of_subarray\n",
    "                \n",
    "                # inner while loop - this variables pointing to first element of sub-array respectivley\n",
    "                head_of_subarray *= 10\n",
    "                head_of_next_subarray *= 10\n",
    "                \n",
    "            if steps <= k:\n",
    "                current_node += 1\n",
    "                k -= steps\n",
    "            else:\n",
    "                current_node *= 10\n",
    "                k -= 1\n",
    "    \n",
    "        return current_node"
   ]
  }
 ],
 "metadata": {
  "kernelspec": {
   "display_name": "Python 3",
   "language": "python",
   "name": "python3"
  },
  "language_info": {
   "codemirror_mode": {
    "name": "ipython",
    "version": 3
   },
   "file_extension": ".py",
   "mimetype": "text/x-python",
   "name": "python",
   "nbconvert_exporter": "python",
   "pygments_lexer": "ipython3",
   "version": "3.8.8"
  }
 },
 "nbformat": 4,
 "nbformat_minor": 5
}
