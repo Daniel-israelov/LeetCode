{
 "cells": [
  {
   "cell_type": "markdown",
   "id": "25e588a2",
   "metadata": {},
   "source": [
    "https://leetcode.com/problems/edit-distance/"
   ]
  },
  {
   "cell_type": "code",
   "execution_count": null,
   "id": "ad04c19c",
   "metadata": {},
   "outputs": [],
   "source": [
    "class Solution:\n",
    "    def minDistance(self, word1: str, word2: str) -> int:\n",
    "        len1 = len(word1)\n",
    "        len2 = len(word2)\n",
    "        \n",
    "        # using the Longest Common Subsequence algorithm (LCS)\n",
    "        lcs_matrix = self.init_lcs(len1 + 1, len2 + 1)\n",
    "        \n",
    "        for i in range(1, len1 + 1):\n",
    "            for j in range(1, len2 + 1):\n",
    "                if word1[i-1] == word2[j-1]:\n",
    "                    lcs_matrix[i][j] = lcs_matrix[i-1][j-1]\n",
    "                else:\n",
    "                    upper_element = lcs_matrix[i-1][j]\n",
    "                    left_element = lcs_matrix[i][j-1]\n",
    "                    upper_left_elemnt = lcs_matrix[i-1][j-1]\n",
    "                    \n",
    "                    lcs_matrix[i][j] = 1 + min(upper_element, left_element, upper_left_elemnt)\n",
    "    \n",
    "        #bottom right index will represent the number of operations\n",
    "        return lcs_matrix[-1][-1]\n",
    "        \n",
    "    def init_lcs(self, len1, len2):\n",
    "        lcs = [[0] * len2 for _ in range(len1)]\n",
    "        \n",
    "        for i in range(len1):\n",
    "            lcs[i][0] = i\n",
    "        \n",
    "        for i in range(len2):\n",
    "            lcs[0][i] = i\n",
    "        \n",
    "        return lcs"
   ]
  }
 ],
 "metadata": {
  "kernelspec": {
   "display_name": "Python 3",
   "language": "python",
   "name": "python3"
  },
  "language_info": {
   "codemirror_mode": {
    "name": "ipython",
    "version": 3
   },
   "file_extension": ".py",
   "mimetype": "text/x-python",
   "name": "python",
   "nbconvert_exporter": "python",
   "pygments_lexer": "ipython3",
   "version": "3.8.8"
  }
 },
 "nbformat": 4,
 "nbformat_minor": 5
}
