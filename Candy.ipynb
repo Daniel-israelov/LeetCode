{
 "cells": [
  {
   "cell_type": "markdown",
   "id": "f387ff90",
   "metadata": {},
   "source": [
    "# https://leetcode.com/problems/candy/"
   ]
  },
  {
   "cell_type": "code",
   "execution_count": null,
   "id": "afc606e9",
   "metadata": {},
   "outputs": [],
   "source": [
    "#Difficulty - HARD\n",
    "\n",
    "class Solution:\n",
    "    def candies_array(self, ratings, start_index, end_index):\n",
    "        candies = [0] * len(ratings)\n",
    "        candies[0] = 1\n",
    "        \n",
    "        for i in range(start_index, end_index):\n",
    "            if ratings[i] <= ratings[i-1]:\n",
    "                candies[i] = 1\n",
    "            elif ratings[i] > ratings[i-1]:\n",
    "                candies[i] = candies[i-1] + 1\n",
    "            \n",
    "        return candies\n",
    "    \n",
    "    def candy(self, ratings: List[int]) -> int:\n",
    "        if len(ratings) == 1:\n",
    "            return 1\n",
    "            \n",
    "        l2r = self.candies_array(ratings, 1, len(ratings))\n",
    "        ratings.reverse()\n",
    "        r2l = self.candies_array(ratings, 1, len(ratings))\n",
    "        r2l.reverse()\n",
    "            \n",
    "        sum_of_candies = 0\n",
    "        \n",
    "        for i in range(0, len(ratings)):\n",
    "            sum_of_candies += max(l2r[i], r2l[i])\n",
    "            \n",
    "        return sum_of_candies"
   ]
  }
 ],
 "metadata": {
  "kernelspec": {
   "display_name": "Python 3",
   "language": "python",
   "name": "python3"
  },
  "language_info": {
   "codemirror_mode": {
    "name": "ipython",
    "version": 3
   },
   "file_extension": ".py",
   "mimetype": "text/x-python",
   "name": "python",
   "nbconvert_exporter": "python",
   "pygments_lexer": "ipython3",
   "version": "3.8.8"
  }
 },
 "nbformat": 4,
 "nbformat_minor": 5
}
